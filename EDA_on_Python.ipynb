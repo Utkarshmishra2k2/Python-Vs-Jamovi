{
  "nbformat": 4,
  "nbformat_minor": 0,
  "metadata": {
    "colab": {
      "private_outputs": true,
      "provenance": [],
      "authorship_tag": "ABX9TyOEXKsv/dH88Anm9XpBWn/B",
      "include_colab_link": true
    },
    "kernelspec": {
      "name": "python3",
      "display_name": "Python 3"
    },
    "language_info": {
      "name": "python"
    }
  },
  "cells": [
    {
      "cell_type": "markdown",
      "metadata": {
        "id": "view-in-github",
        "colab_type": "text"
      },
      "source": [
        "<a href=\"https://colab.research.google.com/github/Utkarshmishra2k2/Python-Vs-Jamovi/blob/main/EDA_on_Python.ipynb\" target=\"_parent\"><img src=\"https://colab.research.google.com/assets/colab-badge.svg\" alt=\"Open In Colab\"/></a>"
      ]
    },
    {
      "cell_type": "code",
      "execution_count": null,
      "metadata": {
        "id": "0gpKeElR7Wn5"
      },
      "outputs": [],
      "source": [
        "import pandas as pd\n",
        "import numpy as np\n",
        "import seaborn as sns\n",
        "import matplotlib.pyplot as plt\n",
        "import plotly.express as px"
      ]
    },
    {
      "cell_type": "code",
      "source": [
        "data_01 = pd.read_csv ( \"Data.csv\" )"
      ],
      "metadata": {
        "id": "r0svbxeoi5mA"
      },
      "execution_count": null,
      "outputs": []
    },
    {
      "cell_type": "code",
      "source": [
        "data_01.head(3)"
      ],
      "metadata": {
        "id": "u8R-eftNjF7r"
      },
      "execution_count": null,
      "outputs": []
    },
    {
      "cell_type": "code",
      "source": [
        "data_01.shape"
      ],
      "metadata": {
        "id": "F6g-q7EDjKIK"
      },
      "execution_count": null,
      "outputs": []
    },
    {
      "cell_type": "code",
      "source": [
        "data_01.columns"
      ],
      "metadata": {
        "id": "ytnpH_9UjscB"
      },
      "execution_count": null,
      "outputs": []
    },
    {
      "cell_type": "code",
      "source": [
        "len( data_01.columns )"
      ],
      "metadata": {
        "id": "AzUpT2MUj7BQ"
      },
      "execution_count": null,
      "outputs": []
    },
    {
      "cell_type": "code",
      "source": [
        "data_01.dtypes"
      ],
      "metadata": {
        "id": "_9IN1ADl1t7k"
      },
      "execution_count": null,
      "outputs": []
    },
    {
      "cell_type": "code",
      "source": [
        "data_01.info()"
      ],
      "metadata": {
        "id": "qYY3MwBojREC"
      },
      "execution_count": null,
      "outputs": []
    },
    {
      "cell_type": "code",
      "source": [
        "data_01.describe().T"
      ],
      "metadata": {
        "id": "yLRFE8p2jU8L"
      },
      "execution_count": null,
      "outputs": []
    },
    {
      "cell_type": "code",
      "source": [
        "data_01.describe( include = \"all\" ).T"
      ],
      "metadata": {
        "id": "kZrRUrwNjZFy"
      },
      "execution_count": null,
      "outputs": []
    },
    {
      "cell_type": "code",
      "source": [
        "data_01.isnull().sum()"
      ],
      "metadata": {
        "id": "ftmWe-8Kjlec"
      },
      "execution_count": null,
      "outputs": []
    },
    {
      "cell_type": "code",
      "source": [
        "plt.figure ( figsize= (15,15) )\n",
        "plt.title ( \" Rent in Cities Vs BHK \")\n",
        "sns.barplot ( x = data_01[\"City\"] , y = data_01[\"Rent\"] , hue = data_01[\"BHK\"] );"
      ],
      "metadata": {
        "id": "IUmyaRwBp14F"
      },
      "execution_count": null,
      "outputs": []
    },
    {
      "cell_type": "code",
      "source": [
        "plt.figure ( figsize= (15,15) )\n",
        "plt.title ( \" Rent in Cities Vs Area Type \")\n",
        "sns.barplot ( x = data_01[\"City\"] , y = data_01[\"Rent\"] , hue = data_01[\"Area Type\"] );"
      ],
      "metadata": {
        "id": "GOKnKS2kB-dt"
      },
      "execution_count": null,
      "outputs": []
    },
    {
      "cell_type": "code",
      "source": [
        "plt.figure ( figsize= (15,15) )\n",
        "plt.title ( \" Rent in Cities Vs Furnishing Status \")\n",
        "sns.barplot ( x = data_01[\"City\"] , y = data_01[\"Rent\"] , hue = data_01[\"Furnishing Status\"] );"
      ],
      "metadata": {
        "id": "lqdF7oBqC4UU"
      },
      "execution_count": null,
      "outputs": []
    },
    {
      "cell_type": "code",
      "source": [
        "px.bar ( data_01 , x = data_01[\"City\"] , y  = data_01[\"Rent\"] , color = data_01[\"Size\"] , title = \" Rent in cities Vs Size \")"
      ],
      "metadata": {
        "id": "2x73z1fgDB95"
      },
      "execution_count": null,
      "outputs": []
    },
    {
      "cell_type": "code",
      "source": [
        "cities=data_01['City'].unique()\n",
        "x=data_01['City'].value_counts().values"
      ],
      "metadata": {
        "id": "iK8LQU0lHqFF"
      },
      "execution_count": null,
      "outputs": []
    },
    {
      "cell_type": "code",
      "source": [
        "fig, ax = plt.subplots(figsize=(15,15))\n",
        "ax.pie(x, labels = cities, autopct= lambda p:f'{p:.2f}%, {p*sum(x)/100 :.0f} houses', textprops={'size': 'medium'})\n",
        "ax.set_title('Number of houses for Rent in cities', fontsize=18)\n",
        "plt.tight_layout()"
      ],
      "metadata": {
        "id": "wPk2vIphGgY8"
      },
      "execution_count": null,
      "outputs": []
    },
    {
      "cell_type": "code",
      "source": [
        "cities=data_01['Tenant Preferred'].unique()\n",
        "x=data_01['Tenant Preferred'].value_counts().values"
      ],
      "metadata": {
        "id": "P_69ybqqJdQU"
      },
      "execution_count": null,
      "outputs": []
    },
    {
      "cell_type": "code",
      "source": [
        "fig, ax = plt.subplots(figsize=(15,15))\n",
        "ax.pie(x, labels = cities, autopct= lambda p:f'{p:.2f}%, {p*sum(x)/100 :.0f} houses',textprops={'size': 'medium'})\n",
        "ax.set_title('Preference of Tenants in India', fontsize=18)\n",
        "plt.tight_layout()"
      ],
      "metadata": {
        "id": "hxzZXO66HA9O"
      },
      "execution_count": null,
      "outputs": []
    }
  ]
}